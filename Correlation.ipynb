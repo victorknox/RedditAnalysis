{
  "nbformat": 4,
  "nbformat_minor": 0,
  "metadata": {
    "colab": {
      "name": "Correlation.ipynb",
      "provenance": [],
      "collapsed_sections": [],
      "include_colab_link": true
    },
    "kernelspec": {
      "name": "python3",
      "display_name": "Python 3"
    },
    "language_info": {
      "name": "python"
    }
  },
  "cells": [
    {
      "cell_type": "markdown",
      "metadata": {
        "id": "view-in-github",
        "colab_type": "text"
      },
      "source": [
        "<a href=\"https://colab.research.google.com/github/victorknox/RedditAnalysis/blob/main/Correlation.ipynb\" target=\"_parent\"><img src=\"https://colab.research.google.com/assets/colab-badge.svg\" alt=\"Open In Colab\"/></a>"
      ]
    },
    {
      "cell_type": "markdown",
      "metadata": {
        "id": "PP3L5apm7sKr"
      },
      "source": [
        "# Exploring Correlation between Emotions and Moral Sentiments"
      ]
    },
    {
      "cell_type": "code",
      "metadata": {
        "id": "KuMIkPNXscus",
        "colab": {
          "base_uri": "https://localhost:8080/"
        },
        "outputId": "9c083f42-3063-429d-823a-ff4b47d463a5"
      },
      "source": [
        "# Importing the Reddit Comments dataset\n",
        "import pandas as pd\n",
        "data = pd.read_csv('Reddit_comments.csv', names=['title', 'body', 'votes', 'subreddit name', 'time', 'date', 'author'])\n",
        "print(data.head())"
      ],
      "execution_count": 163,
      "outputs": [
        {
          "output_type": "stream",
          "name": "stdout",
          "text": [
            "                   title  ...         author\n",
            "0                  title  ...         author\n",
            "1  Twice - Momo deepfake  ...  beef_smuggler\n",
            "2  Twice - Momo Deepfake  ...        zamin13\n",
            "3  Twice - Momo Deepfake  ...       CodaAyax\n",
            "4  Twice - Momo Deepfake  ...         Emoome\n",
            "\n",
            "[5 rows x 7 columns]\n"
          ]
        }
      ]
    },
    {
      "cell_type": "code",
      "metadata": {
        "colab": {
          "base_uri": "https://localhost:8080/"
        },
        "id": "zh5Ta_l0auka",
        "outputId": "21d03496-187f-42a9-fcbd-db051d59b617"
      },
      "source": [
        "# Importing the Moral Foundations Dictionary\n",
        "import pandas as pd\n",
        "MFD = pd.read_csv('MFD.csv')\n",
        "print(MFD.head())"
      ],
      "execution_count": 164,
      "outputs": [
        {
          "output_type": "stream",
          "name": "stdout",
          "text": [
            "         Word  tag1  tag2  tag3\n",
            "0        safe     1   NaN   NaN\n",
            "1       peace     1   NaN   NaN\n",
            "2  compassion     1   NaN   NaN\n",
            "3      empath     1   NaN   NaN\n",
            "4     sympath     1   NaN   NaN\n"
          ]
        }
      ]
    },
    {
      "cell_type": "code",
      "metadata": {
        "colab": {
          "base_uri": "https://localhost:8080/"
        },
        "id": "z1sqjEVZawcI",
        "outputId": "c16bb496-a618-4987-87a9-944114ed0f96"
      },
      "source": [
        "comments = data['body']\n",
        "posts = data['title'].unique()\n",
        "\n",
        "print(len(comments))\n",
        "print(len(posts))"
      ],
      "execution_count": 165,
      "outputs": [
        {
          "output_type": "stream",
          "name": "stdout",
          "text": [
            "86325\n",
            "6834\n"
          ]
        }
      ]
    },
    {
      "cell_type": "code",
      "metadata": {
        "colab": {
          "base_uri": "https://localhost:8080/"
        },
        "id": "T1RDMTmia37T",
        "outputId": "78ba0806-413a-4003-f6a3-0fd06e323e88"
      },
      "source": [
        "pip install text2emotion"
      ],
      "execution_count": 166,
      "outputs": [
        {
          "output_type": "stream",
          "name": "stdout",
          "text": [
            "Requirement already satisfied: text2emotion in /usr/local/lib/python3.7/dist-packages (0.0.5)\n",
            "Requirement already satisfied: emoji>=0.6.0 in /usr/local/lib/python3.7/dist-packages (from text2emotion) (1.6.1)\n",
            "Requirement already satisfied: nltk in /usr/local/lib/python3.7/dist-packages (from text2emotion) (3.2.5)\n",
            "Requirement already satisfied: six in /usr/local/lib/python3.7/dist-packages (from nltk->text2emotion) (1.15.0)\n"
          ]
        }
      ]
    },
    {
      "cell_type": "markdown",
      "metadata": {
        "id": "8QjYELNEazrI"
      },
      "source": [
        "## Functions used"
      ]
    },
    {
      "cell_type": "code",
      "metadata": {
        "id": "hQNMtE6vcQdB"
      },
      "source": [
        "import pandas as pd\n",
        "\n",
        "# Pearson coefficient\n",
        "def pcorr(a, b):\n",
        "  x = pd.Series(a)\n",
        "  y = pd.Series(b)\n",
        "  return x.corr(y)"
      ],
      "execution_count": 168,
      "outputs": []
    },
    {
      "cell_type": "code",
      "metadata": {
        "id": "msjauPWpgPkf"
      },
      "source": [
        "import pandas as pd\n",
        "\n",
        "# Spearman coefficient\n",
        "def scorr(a, b):\n",
        "  x = pd.Series(a)\n",
        "  y = pd.Series(b)\n",
        "  return x.corr(y, method='spearman')"
      ],
      "execution_count": 169,
      "outputs": []
    },
    {
      "cell_type": "code",
      "metadata": {
        "id": "lDICyaYZhZuz"
      },
      "source": [
        "def get_morality(all_sentiments, post, MFD):\n",
        "  moral_sentiments_total = [0, 0, 0, 0, 0, 0, 0, 0, 0, 0]\n",
        "  moral_sentiments = [0, 0, 0, 0, 0, 0, 0, 0, 0, 0]\n",
        "  for i in range(len(MFD['Word'])):\n",
        "    if MFD.iloc[i].Word in str(post):\n",
        "      if MFD.iloc[i].tag1 <= 10: \n",
        "        moral_sentiments[int(MFD.iloc[i].tag1-1)] += 1\n",
        "      if MFD.iloc[i].tag2 <= 10:\n",
        "        moral_sentiments[int(MFD.iloc[i].tag2-1)] += 1\n",
        "      if MFD.iloc[i].tag3 <= 10:\n",
        "        moral_sentiments[int(MFD.iloc[i].tag3-1)] += 1\n",
        "  if max(moral_sentiments) > 0:\n",
        "    moral_sentiments_total[moral_sentiments.index(max(moral_sentiments))] += 1\n",
        "  all_sentiments[5] += int(moral_sentiments_total[0] - moral_sentiments_total[1])\n",
        "  all_sentiments[6] += int(moral_sentiments_total[2] - moral_sentiments_total[3])\n",
        "  all_sentiments[7] += int(moral_sentiments_total[4] - moral_sentiments_total[5])\n",
        "  all_sentiments[8] += int(moral_sentiments_total[6] - moral_sentiments_total[7])\n",
        "  all_sentiments[9] += int(moral_sentiments_total[8] - moral_sentiments_total[9])\n",
        "  return all_sentiments"
      ],
      "execution_count": 170,
      "outputs": []
    },
    {
      "cell_type": "code",
      "metadata": {
        "id": "C0Xuxuhog21y"
      },
      "source": [
        "def get_emotion(all_sentiments, post):\n",
        "  x = te.get_emotion(str(post))\n",
        "  all_sentiments[0] += int(x[\"Happy\"])\n",
        "  all_sentiments[1] += int(x[\"Angry\"])\n",
        "  all_sentiments[2] += int(x[\"Surprise\"])\n",
        "  all_sentiments[3] += int(x[\"Sad\"])\n",
        "  all_sentiments[4] += int(x[\"Fear\"])\n",
        "  return all_sentiments"
      ],
      "execution_count": 171,
      "outputs": []
    },
    {
      "cell_type": "code",
      "metadata": {
        "id": "wMIadHB6cl8g"
      },
      "source": [
        "import text2emotion as te\n",
        "import pandas as pd\n",
        "\n",
        "# To get arrays of all sentiments \n",
        "def get_sentiments(body, MFD):\n",
        "  sentiments = [[],[],[],[],[],[],[],[],[],[]] # [\"Happy\", \"Angry\", \"Surpr\", \"Sad\", \"Fear\"], [\"Harm\", \"Fairness\", \"Ingroup\", \"Authority\", \"Purity\"]\n",
        "  sentiment_score = [0, 0, 0, 0, 0, 0, 0, 0, 0, 0]\n",
        "  for post in body:\n",
        "    get_emotion(sentiment_score, post)\n",
        "    get_morality(sentiment_score, post, MFD)\n",
        "    for i in range(10):\n",
        "      sentiments[i].append(sentiment_score[i])\n",
        "  return sentiments"
      ],
      "execution_count": 172,
      "outputs": []
    },
    {
      "cell_type": "code",
      "metadata": {
        "id": "Fm4aSPJ7pDaT"
      },
      "source": [
        "emotions = [\"Happy\", \"Angry\", \"Surpr\", \"Sad\", \"Fear\"]\n",
        "moral_sentiments = [\"Harm\", \"Fairness\", \"Ingroup\", \"Authority\", \"Purity\"]\n",
        "\n",
        "def get_correlation(body):\n",
        "  print(\"Pearson\")\n",
        "  ans = get_sentiments(body, MFD)\n",
        "  print(\"     \", end = \"  \")\n",
        "  for x in moral_sentiments: \n",
        "    print(x, end =\"|\")\n",
        "  print()\n",
        "  for i in range(5):\n",
        "    print(emotions[i], end =\": \")\n",
        "    for j in range(5, 10):\n",
        "      print(pcorr(ans[i], ans[j]), end = \"|\")\n",
        "    print()\n",
        "  print()\n",
        "  print(\"Spearman\")\n",
        "  print(\"     \", end = \"  \")\n",
        "  for x in moral_sentiments: \n",
        "    print(x, end =\"|\")\n",
        "  print()\n",
        "  for i in range(5):\n",
        "    print(emotions[i], end =\": \")\n",
        "    for j in range(5, 10):\n",
        "      print(scorr(ans[i], ans[j]), end = \"|\")\n",
        "    print()"
      ],
      "execution_count": 182,
      "outputs": []
    },
    {
      "cell_type": "markdown",
      "metadata": {
        "id": "SIQbuqrNnunh"
      },
      "source": [
        "## Results"
      ]
    },
    {
      "cell_type": "code",
      "metadata": {
        "colab": {
          "base_uri": "https://localhost:8080/"
        },
        "id": "XPa4eY9aqc25",
        "outputId": "ec72ea15-6dda-4bfd-9fc5-1248b6a225e7"
      },
      "source": [
        "get_correlation(posts)"
      ],
      "execution_count": 184,
      "outputs": [
        {
          "output_type": "stream",
          "name": "stdout",
          "text": [
            "Pearson\n",
            "       Harm|Fairness|Ingroup|Authority|Purity|\n",
            "Happy: -0.9927727131284692|0.8868223562587987|0.9947622924659225|0.9923317463073544|-0.9983154961647555|\n",
            "Angry: -0.9950178092992369|0.885153465955621|0.997175876505794|0.9870778876113391|-0.9945738118731234|\n",
            "Surpr: -0.9984699656869379|0.8658715635047822|0.9968022146161513|0.9874336824338854|-0.9922982691946791|\n",
            "Sad: -0.9948631713202529|0.8921753077390074|0.9972849028513078|0.9938384544906319|-0.9987170408144228|\n",
            "Fear: -0.9967289265473858|0.89097778353529|0.9992969468177181|0.9937774689722189|-0.9974374557118122|\n",
            "\n",
            "Spearman\n",
            "       Harm|Fairness|Ingroup|Authority|Purity|\n",
            "Happy: -0.9996393278869923|0.9220331047799168|0.9997974932072445|0.9995376392395828|-0.9998204455904374|\n",
            "Angry: -0.9993325183263022|0.9210059107760309|0.9995527371031669|0.9991781843940696|-0.9995751696190754|\n",
            "Surpr: -0.9997149703274669|0.9222964211550375|0.9998880983053582|0.9996111400674251|-0.999910045671549|\n",
            "Sad: -0.9997109938186577|0.9223166514649708|0.9998887666828178|0.9996148227221159|-0.9999082772760711|\n",
            "Fear: -0.9997190206175424|0.9223119119509867|0.99988969159255|0.999613798979619|-0.9999094382490522|\n"
          ]
        }
      ]
    },
    {
      "cell_type": "code",
      "metadata": {
        "colab": {
          "base_uri": "https://localhost:8080/"
        },
        "id": "6OpKHpxJq4Hw",
        "outputId": "80593827-a579-4920-e2cc-b921ee51eaeb"
      },
      "source": [
        "get_correlation(comments)"
      ],
      "execution_count": 185,
      "outputs": [
        {
          "output_type": "stream",
          "name": "stdout",
          "text": [
            "Pearson\n",
            "       Harm|Fairness|Ingroup|Authority|Purity|\n",
            "Happy: -0.9987497133019937|0.996598349184149|0.999060196436882|0.9986233480792734|-0.9983217816425772|\n",
            "Angry: -0.9977802439284092|0.997379476474602|0.9986351828668839|0.9992231959380862|-0.9992467628205547|\n",
            "Surpr: -0.9989836019761726|0.9963309078932534|0.9987025067342825|0.9983850031467945|-0.9982921745413224|\n",
            "Sad: -0.9979116142272607|0.9977278595717787|0.9991965807146531|0.9996170292055975|-0.9994863579930771|\n",
            "Fear: -0.9990015373009999|0.9965332010496843|0.9988545719422998|0.9986044862059136|-0.9983871155028285|\n",
            "\n",
            "Spearman\n",
            "       Harm|Fairness|Ingroup|Authority|Purity|\n",
            "Happy: -0.9999837813137111|0.9999640277510267|0.9999994801184084|0.999998593543703|-0.9999954593311967|\n",
            "Angry: -0.9999788135393612|0.9999594388219519|0.9999953267097152|0.9999943919685933|-0.9999915501244377|\n",
            "Surpr: -0.9999838442396447|0.9999642830835578|0.999999779086084|0.9999988653798079|-0.9999957889655872|\n",
            "Sad: -0.9999838208427987|0.9999643588543848|0.9999997738613917|0.9999988555827539|-0.9999958651801636|\n",
            "Fear: -0.9999838351677417|0.999964347632923|0.9999998233700131|0.999998919087477|-0.9999958671358903|\n"
          ]
        }
      ]
    }
  ]
}